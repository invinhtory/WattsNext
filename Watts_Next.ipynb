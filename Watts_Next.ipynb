{
 "cells": [
  {
   "cell_type": "markdown",
   "id": "b99fb1e7-9649-46db-aaac-3258decfe996",
   "metadata": {
    "editable": true,
    "slideshow": {
     "slide_type": ""
    },
    "tags": []
   },
   "source": [
    "# ME599 - AI in Clean Energy Watt's Next\n",
    "Team Members: Ricardo Lee, Evan Muschler, Vinh Nguyen, Noah Tanner"
   ]
  },
  {
   "cell_type": "markdown",
   "id": "476af07a-c06c-4505-b6b6-0781ea33f9f4",
   "metadata": {},
   "source": [
    "## 1. Installation of Requisite Libraries\n",
    "Installing the full AeroSandbox package, which contains NeuralFoil and methods for generating parameters from airfoil coordinates."
   ]
  },
  {
   "cell_type": "code",
   "execution_count": null,
   "id": "a46953b9-20a3-40cc-8be6-6275a75f3d5c",
   "metadata": {},
   "outputs": [],
   "source": [
    "!pip install aerosandbox[full]\n",
    "!pip install pyDOE"
   ]
  },
  {
   "cell_type": "markdown",
   "id": "225fb0eb-cafb-44dd-ae7d-fe89996c222e",
   "metadata": {},
   "source": [
    "## 2. Import Libraries"
   ]
  },
  {
   "cell_type": "code",
   "execution_count": 2,
   "id": "593fa74a-3085-4c1e-b8d7-241b07e6b940",
   "metadata": {},
   "outputs": [],
   "source": [
    "import aerosandbox as asb\n",
    "import aerosandbox.numpy as np\n",
    "import matplotlib.pyplot as plt\n",
    "import aerosandbox.tools.pretty_plots as p\n",
    "\n",
    "import matplotlib.pyplot as plt\n",
    "import ipywidgets as widgets\n",
    "from IPython.display import display, clear_output\n",
    "import random\n",
    "from scipy.stats import qmc\n",
    "from scipy.spatial import distance\n",
    "from sklearn.gaussian_process.kernels import RBF, ConstantKernel as C\n",
    "from scipy.optimize import minimize\n",
    "from scipy.stats import norm\n",
    "from pyDOE import lhs\n",
    "import os\n",
    "from scipy.stats.qmc import Sobol\n",
    "from itertools import product\n",
    "import seaborn as sns"
   ]
  },
  {
   "cell_type": "code",
   "execution_count": null,
   "id": "62a9ce85-b7f6-4496-ae3d-94e94e6b25d3",
   "metadata": {},
   "outputs": [],
   "source": [
    "# Testing the packaged airfoil generation code. First makes a regular airfoil from airfoil database.\n",
    "coordinate_airfoil = asb.Airfoil(\"dae11\")\n",
    "coordinate_airfoil\n",
    "fig, ax = plt.subplots(figsize=(6, 2))\n",
    "coordinate_airfoil.draw()\n",
    "# Converts airfoil to kulfan parameterized airfoil. It looks the same, but the dots aren't plotted so the figure looks smoother. \n",
    "kulfan_airfoil = coordinate_airfoil.to_kulfan_airfoil()\n",
    "kulfan_airfoil\n",
    "fig, ax = plt.subplots(figsize=(6, 2))\n",
    "kulfan_airfoil.draw()\n",
    "# prints parameters so we can see how data is formatted\n",
    "print(kulfan_airfoil.kulfan_parameters)"
   ]
  },
  {
   "cell_type": "code",
   "execution_count": null,
   "id": "fd9d5458-aa21-41b1-9c92-576511d0f829",
   "metadata": {},
   "outputs": [],
   "source": [
    "# test to just see how we can play around with airfoil shapes based on kulfan parameters\n",
    "test = asb.KulfanAirfoil(\n",
    "    name=\"Test\",\n",
    "    lower_weights=[-1, -.5, 0, 0, -1, .5, -1, -.75],\n",
    "    upper_weights=1.0 * np.ones(8),\n",
    "    leading_edge_weight=.9,\n",
    "    TE_thickness=.005,\n",
    ")\n",
    "print(test.kulfan_parameters)\n",
    "fig, ax = plt.subplots(figsize=(6, 2))\n",
    "test.draw()"
   ]
  },
  {
   "cell_type": "markdown",
   "id": "1ae4d40f-dabe-400b-aba1-3eab2935b0d9",
   "metadata": {},
   "source": [
    "## 3. Define Neural Foil Helper Functions\n",
    "Here, we define helper functions that help us put the Kulfan Parameters into a Bayesian Optimization-friendly state. The Kulfan parameters are by default in a dictionary, but we want them in a single list format for easy data manipulation. \n",
    "\n",
    "Also makes helper functions that can make the next foils to try based on the new parameters chosen by Bayesian Optimization."
   ]
  },
  {
   "cell_type": "code",
   "execution_count": 5,
   "id": "b9cbb0be-4905-4f78-bae5-72170aeb1938",
   "metadata": {},
   "outputs": [],
   "source": [
    "from neuralfoil.main import get_aero_from_kulfan_parameters\n",
    "\n",
    "# This converts the dictionary of Kulfan parameters into a single list. \n",
    "def kulfan_to_bo(kf_params):\n",
    "    list_lower = kf_params[\"lower_weights\"]\n",
    "    list_upper = kf_params[\"upper_weights\"]\n",
    "    leading_edge = kf_params[\"leading_edge_weight\"]\n",
    "    trailing_edge = kf_params[\"TE_thickness\"]\n",
    "    result = [leading_edge, trailing_edge, *list_upper, *list_lower]\n",
    "    return result\n",
    "\n",
    "# This converts the list of Bayesian Optimization parameters back into a Kulfan parameter dictionary for the AeroSanbox library\n",
    "def bo_to_kulfan(bo):\n",
    "    result = {\"leading_edge_weight\": bo[0],\n",
    "              \"TE_thickness\": bo[1],\n",
    "              \"upper_weights\": bo[2:9],\n",
    "              \"lower_weights\": bo[10:17]}\n",
    "    return result\n",
    "\n",
    "# Helper function to generate airfoils from given Kulfan parameters. Mostly there to help automate the code during BO process\n",
    "def make_foil_kf(kf, name):\n",
    "    foil = asb.KulfanAirfoil(\n",
    "    name=name,\n",
    "    lower_weights=kf[\"lower_weights\"],\n",
    "    upper_weights=kf[\"upper_weights\"],\n",
    "    leading_edge_weight=kf[\"leading_edge_weight\"],\n",
    "    TE_thickness=kf[\"TE_thickness\"],\n",
    ")\n",
    "    return foil\n",
    "\n",
    "# makes Kulfan airfoils from just (X,Y) coordinates from the BO optimization or .dat file.\n",
    "def make_foil_coords(coords, name):\n",
    "    foil = asb.Airfoil(name = name, coords = coords)\n",
    "    kf_foil = foil.to_kulfan_airfoil()\n",
    "    return kf_foil\n",
    "\n",
    "# generate aero performance variable containing CL and CD over variable angle of attack and reynolds numbers from kulfan parameterized foil\n",
    "def get_CL_CD_perf(kf_foil):\n",
    "    # define angles of attack range over which to collect values, these are hardcoded for now\n",
    "    alpha_start = 1\n",
    "    alpha_end = 20\n",
    "    alpha = np.linspace(alpha_start,alpha_end,200)\n",
    "\n",
    "    # define reynolds number range over which to collect values, these are hardcoded for now\n",
    "    Re_start = 1e6\n",
    "    Re_end = 10e6\n",
    "    Re_list = np.linspace(Re_start, Re_end, 10) \n",
    "\n",
    "    # temporary storage lists\n",
    "    Re_all = []\n",
    "    alpha_all = []\n",
    "    CL_all = []\n",
    "    CD_all = []\n",
    "    \n",
    "    # loop over Reynolds numbers\n",
    "    for Re in Re_list:\n",
    "        aero_ = get_aero_from_kulfan_parameters(\n",
    "            kulfan_parameters = kf_foil,\n",
    "            alpha=alpha,  # NeuralFoil expects degrees\n",
    "            Re=Re,\n",
    "            model_size=\"xxlarge\"\n",
    "        )\n",
    "    \n",
    "        Re_all.extend([Re] * len(alpha))\n",
    "        alpha_all.extend(alpha)\n",
    "        CL_all.extend(aero_[\"CL\"])\n",
    "        CD_all.extend(aero_[\"CD\"])\n",
    "    \n",
    "    # final neuralfoil aero_performance dictionary as NumPy arrays, with alpha in radians for the BEM code\n",
    "    aero_performance = {\n",
    "        \"Re\": np.array(Re_all, dtype=np.float64),\n",
    "        \"alpha\": np.array(np.radians(alpha_all), dtype=np.float64),\n",
    "        \"CL\": np.array(CL_all, dtype=np.float64),\n",
    "        \"CD\": np.array(CD_all, dtype=np.float64)\n",
    "    }\n",
    "\n",
    "    return aero_performance"
   ]
  },
  {
   "cell_type": "markdown",
   "id": "5d9d9198-911e-4c63-ba10-65cfaf795e68",
   "metadata": {},
   "source": [
    "## 5. Define a Bayesian Optimization Model\n",
    "Defines a Bayesian Optimization Model to optimize Cp given the 18 Kulfan parameters"
   ]
  },
  {
   "cell_type": "markdown",
   "id": "479585e1-86cf-47cc-bb17-9cb529f8250d",
   "metadata": {},
   "source": [
    "### 5.1 Define conditions for optimization\n",
    "What are the conditions that we are trying to optimize our airfoil for? Here, we set wind velocity, Reynolds number ($Re$), Mach number ($M_{inf}$), the hub radius of the wind turbine ($r_{hub}$), the number of blades ($n$), the total turbine radius ($r_t$), and a range for the angle of attack ($\\alpha$)."
   ]
  },
  {
   "cell_type": "code",
   "execution_count": null,
   "id": "b051cf20-d71c-42fa-9b5b-182c2b877381",
   "metadata": {},
   "outputs": [],
   "source": [
    "\n",
    "# Define Input turbine properties\n",
    "U_design = 8  # Design wind speed [m/s]\n",
    "R = 25  # Turbine radius [m]\n",
    "eta_0 = 0.90  # Balance of system efficiency\n",
    "lambda_design = 8  # Design tip speed ratio\n",
    "B = 3  # Number of blades\n",
    "R_hub = 2  # Hub radius [m]\n",
    "N = 50  # Number of blade segments\n",
    "rho = 1.225  # Air density [kg/m^3]\n",
    "nu = 1.511e-5  # Kinematic viscosity of air at 20 C [m^2/s]\n",
    "Re_design = 1.5e6 # Starting guess on Reynolds number (1.5e6 is decent)\n",
    "m_inf = 0.2 # currently not used... need to resolve.... <--------------------------\n",
    "alpha_range = [5, 15]\n",
    "\n",
    "def get_basic_kulfan():\n",
    "    return {\n",
    "        \"leading_edge_weight\": 0.2,      # Moderate leading edge radius\n",
    "        \"TE_thickness\": 0.02,            # Typical trailing edge thickness\n",
    "        \"upper_weights\": [0.2, 0.2, 0.15, 0.1, 0.05, 0.0, -0.05, -0.1],  # Cambered upper surface\n",
    "        \"lower_weights\": [-0.1, -0.1, -0.08, -0.06, -0.04, -0.02, 0.0, 0.02]  # Typical lower surface\n",
    "    }\n",
    "\n",
    "initial_kulfan = get_basic_kulfan()\n",
    "print(initial_kulfan)\n",
    "starting_foil = asb.KulfanAirfoil(\n",
    "    name=\"Initial Foil\",\n",
    "    lower_weights=initial_kulfan[\"lower_weights\"],\n",
    "    upper_weights=initial_kulfan[\"upper_weights\"],\n",
    "    leading_edge_weight=initial_kulfan[\"leading_edge_weight\"],\n",
    "    TE_thickness=initial_kulfan[\"TE_thickness\"]\n",
    ")\n",
    "\n",
    "starting_foil.draw()\n",
    "\n"
   ]
  },
  {
   "cell_type": "code",
   "execution_count": null,
   "id": "ccef16ff",
   "metadata": {},
   "outputs": [],
   "source": [
    "from bayesianOpModel import bo_loop \n",
    "from bayopTest import bayop_test\n",
    "#best_design, best_kf, best_foil = bo_loop(re, alpha)\n",
    "kulfan_best, max_score = bayop_test( U_design, R, eta_0, lambda_design, B, R_hub, N, initial_kulfan, Re_design, rho=rho, nu=nu, alpha_range=alpha_range)"
   ]
  },
  {
   "cell_type": "code",
   "execution_count": null,
   "id": "aa329864",
   "metadata": {},
   "outputs": [],
   "source": [
    "optimized_foil = asb.KulfanAirfoil(\n",
    "    name=\"optimized_airfoil\",\n",
    "    lower_weights=kulfan_best[\"lower_weights\"],\n",
    "    upper_weights=kulfan_best[\"upper_weights\"],\n",
    "    leading_edge_weight=kulfan_best[\"leading_edge_weight\"],\n",
    "    TE_thickness=kulfan_best[\"TE_thickness\"]\n",
    ")\n",
    "\n",
    "optimized_foil.draw()\n"
   ]
  },
  {
   "cell_type": "markdown",
   "id": "7eca9a42-d779-498d-aed1-1ac6587883eb",
   "metadata": {},
   "source": [
    "### 5.4 "
   ]
  },
  {
   "cell_type": "markdown",
   "id": "a299b4e7-744f-4d2d-b54c-3bf061151359",
   "metadata": {},
   "source": [
    "## 6. Data Visualization\n",
    "Function to visualize how the airfoil changes shape as it goes through the Bayesian Optimization process"
   ]
  },
  {
   "cell_type": "code",
   "execution_count": null,
   "id": "98ff9b0c-631c-4079-ac59-e76874384f5d",
   "metadata": {},
   "outputs": [],
   "source": [
    "from animate_optimization import create_optimization_animation\n",
    "optimization_history_path= 'optimization_history_20250601_144301'\n",
    "\n",
    "create_optimization_animation(optimization_history_path, output_file='optimization.gif')"
   ]
  }
 ],
 "metadata": {
  "kernelspec": {
   "display_name": ".venv",
   "language": "python",
   "name": "python3"
  },
  "language_info": {
   "codemirror_mode": {
    "name": "ipython",
    "version": 3
   },
   "file_extension": ".py",
   "mimetype": "text/x-python",
   "name": "python",
   "nbconvert_exporter": "python",
   "pygments_lexer": "ipython3",
   "version": "3.9.6"
  }
 },
 "nbformat": 4,
 "nbformat_minor": 5
}
